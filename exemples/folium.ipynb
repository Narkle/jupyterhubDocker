{
 "cells": [
  {
   "cell_type": "code",
   "execution_count": null,
   "metadata": {},
   "outputs": [],
   "source": [
    "import os\n",
    "import folium\n",
    "\n",
    "print(folium.__version__)\n",
    "!if [ ! -d results ]; then mkdir results; fi"
   ]
  },
  {
   "cell_type": "markdown",
   "metadata": {},
   "source": [
    "# ColorLine"
   ]
  },
  {
   "cell_type": "code",
   "execution_count": null,
   "metadata": {},
   "outputs": [],
   "source": [
    "import numpy as np\n",
    "\n",
    "x = np.linspace(0, 2*np.pi, 300)\n",
    "\n",
    "lats = 20 * np.cos(x)\n",
    "lons = 20 * np.sin(x)\n",
    "colors = np.sin(5 * x)"
   ]
  },
  {
   "cell_type": "code",
   "execution_count": null,
   "metadata": {},
   "outputs": [],
   "source": [
    "from folium import features\n",
    "\n",
    "m = folium.Map([0, 0], zoom_start=3)\n",
    "\n",
    "\n",
    "color_line = features.ColorLine(\n",
    "    positions=list(zip(lats, lons)),\n",
    "    colors=colors,\n",
    "    colormap=['y', 'orange', 'r'],\n",
    "    weight=10)\n",
    "\n",
    "color_line.add_to(m)\n",
    "\n",
    "m.save(os.path.join('results', 'Features_0.html'))\n",
    "\n",
    "m"
   ]
  },
  {
   "cell_type": "markdown",
   "metadata": {},
   "source": [
    "# Marker, Icon, Popup"
   ]
  },
  {
   "cell_type": "code",
   "execution_count": null,
   "metadata": {
    "scrolled": false
   },
   "outputs": [],
   "source": [
    "m = folium.Map([0, 0], zoom_start=1)\n",
    "mk = features.Marker([0, 0])\n",
    "pp = folium.Popup('hello')\n",
    "ic = features.Icon(color='red')\n",
    "\n",
    "mk.add_child(ic)\n",
    "mk.add_child(pp)\n",
    "m.add_child(mk)\n",
    "\n",
    "m.save(os.path.join('results', 'Features_1.html'))\n",
    "\n",
    "m"
   ]
  },
  {
   "cell_type": "markdown",
   "metadata": {},
   "source": [
    "# Layers"
   ]
  },
  {
   "cell_type": "code",
   "execution_count": null,
   "metadata": {},
   "outputs": [],
   "source": [
    "m = folium.Map(tiles=None)\n",
    "\n",
    "folium.raster_layers.TileLayer('OpenStreetMap').add_to(m)\n",
    "folium.raster_layers.TileLayer('stamentoner').add_to(m)\n",
    "\n",
    "folium.LayerControl().add_to(m)\n",
    "\n",
    "m.save(os.path.join('results', 'Features_8.html'))\n",
    "\n",
    "m"
   ]
  },
  {
   "cell_type": "code",
   "execution_count": null,
   "metadata": {},
   "outputs": [],
   "source": []
  }
 ],
 "metadata": {
  "kernelspec": {
   "display_name": "Python 3",
   "language": "python",
   "name": "python3"
  },
  "language_info": {
   "codemirror_mode": {
    "name": "ipython",
    "version": 3
   },
   "file_extension": ".py",
   "mimetype": "text/x-python",
   "name": "python",
   "nbconvert_exporter": "python",
   "pygments_lexer": "ipython3",
   "version": "3.6.7"
  }
 },
 "nbformat": 4,
 "nbformat_minor": 2
}
