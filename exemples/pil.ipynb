{
 "cells": [
  {
   "cell_type": "markdown",
   "metadata": {},
   "source": [
    "# PIL : traitement images"
   ]
  },
  {
   "cell_type": "code",
   "execution_count": null,
   "metadata": {},
   "outputs": [],
   "source": [
    "from PIL import Image"
   ]
  },
  {
   "cell_type": "code",
   "execution_count": null,
   "metadata": {},
   "outputs": [],
   "source": [
    "R=255\n",
    "V=255\n",
    "B=0\n",
    "\n",
    "w,h=100,100\n",
    "monimage=Image.new(\"RGB\",(w,h))\n",
    "\n",
    "for y in range(h):\n",
    "    for x in range(w):\n",
    "        monimage.putpixel((x,y),(R,V,B))\n",
    "\n",
    "monimage.resize((320,240), Image.ANTIALIAS)"
   ]
  },
  {
   "cell_type": "code",
   "execution_count": null,
   "metadata": {},
   "outputs": [],
   "source": [
    "monalisa=Image.open('monalisa_256.jpg')\n",
    "monalisa.size\n",
    "monalisa"
   ]
  },
  {
   "cell_type": "code",
   "execution_count": null,
   "metadata": {},
   "outputs": [],
   "source": [
    "for i in range(256):\n",
    "    for j in range(256):\n",
    "        P=monalisa.getpixel((i,j))\n",
    "        m=(P[0]+P[1]+P[2])//3\n",
    "        monalisa.putpixel((i,j),(m,m,m))\n",
    "monalisa"
   ]
  },
  {
   "cell_type": "code",
   "execution_count": null,
   "metadata": {},
   "outputs": [],
   "source": []
  }
 ],
 "metadata": {
  "kernelspec": {
   "display_name": "Python 3",
   "language": "python",
   "name": "python3"
  },
  "language_info": {
   "codemirror_mode": {
    "name": "ipython",
    "version": 3
   },
   "file_extension": ".py",
   "mimetype": "text/x-python",
   "name": "python",
   "nbconvert_exporter": "python",
   "pygments_lexer": "ipython3",
   "version": "3.6.7"
  }
 },
 "nbformat": 4,
 "nbformat_minor": 2
}
