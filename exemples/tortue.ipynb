{
 "cells": [
  {
   "cell_type": "markdown",
   "metadata": {},
   "source": [
    "# Tortue intégrée à Jupyter"
   ]
  },
  {
   "cell_type": "code",
   "execution_count": null,
   "metadata": {},
   "outputs": [],
   "source": [
    "from mobilechelonian import Turtle"
   ]
  },
  {
   "cell_type": "code",
   "execution_count": null,
   "metadata": {},
   "outputs": [],
   "source": [
    "t = Turtle()\n",
    "t.speed(5)\n",
    "colours=[\"red\",\"blue\",\"yellow\",\"brown\",\"black\",\"purple\",\"green\"]\n",
    "\n",
    "t.penup(); t.left(90); t.forward(200);t.right(90);t.pendown()\n",
    "for i in range (0,18):\n",
    "    t.pencolor(colours[i%7])\n",
    "    t.right(20)\n",
    "    t.forward(50)\n",
    "\n",
    "t.right(180)\n",
    "t.home()"
   ]
  },
  {
   "cell_type": "code",
   "execution_count": null,
   "metadata": {},
   "outputs": [],
   "source": [
    "t = Turtle()\n",
    "t.speed(5)\n",
    "def fougere(n,l,angle):\n",
    "    if n==0:\n",
    "        t.forward(l)\n",
    "        t.backward(l)\n",
    "    else:\n",
    "        t.forward(l/3)\n",
    "        t.left(angle)\n",
    "        fougere(n-1,l/2,angle)\n",
    "        t.right(2*angle)\n",
    "        fougere(n-1,l/2,angle)\n",
    "        t.left(angle)\n",
    "        t.forward(l/3)\n",
    "        t.left(angle)\n",
    "        fougere(n-1,l/3,angle)\n",
    "        t.right(2*angle)\n",
    "        fougere(n-1,l/3,angle)\n",
    "        t.left(angle)\n",
    "        t.forward(l/3)\n",
    "        t.backward(l)\n",
    "t.penup()\n",
    "t.right(-90)\n",
    "t.backward(300)\n",
    "t.pendown()\n",
    "fougere(3,300,40)"
   ]
  },
  {
   "cell_type": "code",
   "execution_count": null,
   "metadata": {},
   "outputs": [],
   "source": []
  }
 ],
 "metadata": {
  "kernelspec": {
   "display_name": "Python 3",
   "language": "python",
   "name": "python3"
  },
  "language_info": {
   "codemirror_mode": {
    "name": "ipython",
    "version": 3
   },
   "file_extension": ".py",
   "mimetype": "text/x-python",
   "name": "python",
   "nbconvert_exporter": "python",
   "pygments_lexer": "ipython3",
   "version": "3.6.7"
  }
 },
 "nbformat": 4,
 "nbformat_minor": 2
}
