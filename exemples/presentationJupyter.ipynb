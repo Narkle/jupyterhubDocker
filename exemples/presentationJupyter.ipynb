{
 "cells": [
  {
   "cell_type": "markdown",
   "metadata": {
    "slideshow": {
     "slide_type": "slide"
    }
   },
   "source": [
    "# Présentation Jupyter\n",
    "\n",
    "de la pertinence de l'environnement jupyter pour les enseignements à 3 lettres"
   ]
  },
  {
   "cell_type": "markdown",
   "metadata": {
    "slideshow": {
     "slide_type": "slide"
    }
   },
   "source": [
    "## jupyter Notebook\n",
    "- principe de base\n",
    "- fonctions avancées\n",
    "- modules python *intéressants* compatibles\n",
    "- nbgrader"
   ]
  },
  {
   "cell_type": "markdown",
   "metadata": {
    "slideshow": {
     "slide_type": "slide"
    }
   },
   "source": [
    "### principe de base\n",
    "Mélanger des cellules de texte riche (markdown) et des cellules de code (python ou autre)"
   ]
  },
  {
   "cell_type": "markdown",
   "metadata": {
    "slideshow": {
     "slide_type": "slide"
    }
   },
   "source": [
    "#### Exemple : \n",
    "Ecrire une fonction **distance**\n",
    "- prenant en paramètres deux points\n",
    "- renvoyant la distance euclidienne entre ces deux points\n",
    "\n",
    "On rappelle la formule de la distance dans un repère orthonormé :\n",
    "$$AB=\\sqrt{(x_B-x_A)^2+(y_B-y_A)^2}$$"
   ]
  },
  {
   "cell_type": "code",
   "execution_count": 3,
   "metadata": {
    "slideshow": {
     "slide_type": "-"
    }
   },
   "outputs": [],
   "source": [
    "from math import sqrt \n",
    "def distance(A,B):\n",
    "    xA, yA=A\n",
    "    xB, yB=B\n",
    "    return sqrt((xB-xA)**2+(yB-yA)**2)"
   ]
  },
  {
   "cell_type": "markdown",
   "metadata": {
    "slideshow": {
     "slide_type": "slide"
    }
   },
   "source": [
    "Et bien sûr, on n'oublie pas les tests !!\n",
    "\n",
    "Tester la fonction avec $A(3;2)$ et $B(-1;4)$"
   ]
  },
  {
   "cell_type": "code",
   "execution_count": 13,
   "metadata": {
    "slideshow": {
     "slide_type": "-"
    }
   },
   "outputs": [
    {
     "name": "stdout",
     "output_type": "stream",
     "text": [
      "4.47213595499958\n"
     ]
    }
   ],
   "source": [
    "# tester votre fonction ici\n",
    "A=(3,2)\n",
    "B=(-1,4)\n",
    "print(distance(A,B))\n",
    "\n",
    "# test automatique\n",
    "assert(abs(distance((3,2),(-1,4)) - 4.47213595499958)<1e-08)"
   ]
  },
  {
   "cell_type": "markdown",
   "metadata": {
    "slideshow": {
     "slide_type": "slide"
    }
   },
   "source": [
    "### fonctions avancées\n",
    "Nous allons passer en revue quelques fonctionalités de jupyter ayant une pertinence en lien avec NSI. Il ne s'agit pas ici d'être exaustif, les possibilités de l'outil sont très larges."
   ]
  },
  {
   "cell_type": "markdown",
   "metadata": {
    "slideshow": {
     "slide_type": "slide"
    }
   },
   "source": [
    "#### Exécution de commandes shell\n",
    "on ajoute **!** devant une commande linux, et elle s'exécute !"
   ]
  },
  {
   "cell_type": "code",
   "execution_count": 22,
   "metadata": {
    "slideshow": {
     "slide_type": "-"
    }
   },
   "outputs": [
    {
     "name": "stdout",
     "output_type": "stream",
     "text": [
      "total 20\n",
      "drwx------ 3 wawa root 4096 Jul  3 16:01 exemples\n",
      "-rw-rw-r-- 1 wawa wawa 8387 Jul  3 17:14 presentationJupyter.ipynb\n",
      "drwx------ 4 wawa root 4096 Jul  3 16:01 source\n",
      "repertoire de travail\n",
      "/home/wawa\n"
     ]
    }
   ],
   "source": [
    "!ls -l\n",
    "!(echo \"repertoire de travail\")\n",
    "!pwd"
   ]
  },
  {
   "cell_type": "markdown",
   "metadata": {
    "slideshow": {
     "slide_type": "slide"
    }
   },
   "source": [
    "#### Exécution native de code javascript !\n",
    "\n",
    "Il suffit de mettre en début de cellule la ligne\n",
    "`%%js`"
   ]
  },
  {
   "cell_type": "code",
   "execution_count": 1,
   "metadata": {
    "slideshow": {
     "slide_type": "-"
    }
   },
   "outputs": [
    {
     "data": {
      "application/javascript": [
       "let a=3;\n",
       "let b=2;\n",
       "a=b;\n",
       "b=a;\n",
       "//alert(\"oups\");\n",
       "console.log(a,b);"
      ],
      "text/plain": [
       "<IPython.core.display.Javascript object>"
      ]
     },
     "metadata": {},
     "output_type": "display_data"
    }
   ],
   "source": [
    "%%js\n",
    "let a=3;\n",
    "let b=2;\n",
    "a=b;\n",
    "b=a;\n",
    "//alert(\"oups\");\n",
    "console.log(a,b);"
   ]
  },
  {
   "cell_type": "markdown",
   "metadata": {
    "slideshow": {
     "slide_type": "slide"
    }
   },
   "source": [
    "#### Chronométrer le temps d'exécution\n",
    "- Mettre `%%time` en début de cellule pour avoir le temps mis pour exécuter le code contenu.\n",
    "- Mettre `%time` en début de ligne pour avoir le temps d'exécution de la ligne"
   ]
  },
  {
   "cell_type": "code",
   "execution_count": 32,
   "metadata": {
    "slideshow": {
     "slide_type": "-"
    }
   },
   "outputs": [
    {
     "name": "stdout",
     "output_type": "stream",
     "text": [
      "CPU times: user 38.7 ms, sys: 0 ns, total: 38.7 ms\n",
      "Wall time: 37.8 ms\n"
     ]
    }
   ],
   "source": [
    "%%time\n",
    "for i in range(100000):\n",
    "    y=i**2-i"
   ]
  },
  {
   "cell_type": "code",
   "execution_count": 42,
   "metadata": {
    "slideshow": {
     "slide_type": "-"
    }
   },
   "outputs": [
    {
     "name": "stdout",
     "output_type": "stream",
     "text": [
      "CPU times: user 11 ms, sys: 0 ns, total: 11 ms\n",
      "Wall time: 11 ms\n"
     ]
    },
    {
     "data": {
      "text/plain": [
       "7143"
      ]
     },
     "execution_count": 42,
     "metadata": {},
     "output_type": "execute_result"
    }
   ],
   "source": [
    "a=3\n",
    "for i in range(1000000):\n",
    "    y=i**2-i\n",
    "    \n",
    "# On le chronomètre que cette ligne\n",
    "%time len([x**2 for x in range(100000) if x%14==0])"
   ]
  },
  {
   "cell_type": "code",
   "execution_count": 3,
   "metadata": {
    "slideshow": {
     "slide_type": "-"
    }
   },
   "outputs": [
    {
     "name": "stdout",
     "output_type": "stream",
     "text": [
      "11.5 ms ± 73.1 µs per loop (mean ± std. dev. of 7 runs, 100 loops each)\n"
     ]
    }
   ],
   "source": [
    "%%timeit \n",
    "len([x**2 for x in range(100000) if x%14==0])"
   ]
  },
  {
   "cell_type": "markdown",
   "metadata": {
    "slideshow": {
     "slide_type": "slide"
    }
   },
   "source": [
    "### Toutes les commandes magiques "
   ]
  },
  {
   "cell_type": "code",
   "execution_count": 34,
   "metadata": {
    "slideshow": {
     "slide_type": "-"
    }
   },
   "outputs": [
    {
     "data": {
      "application/json": {
       "cell": {
        "!": "OSMagics",
        "HTML": "Other",
        "SVG": "Other",
        "bash": "Other",
        "capture": "ExecutionMagics",
        "debug": "ExecutionMagics",
        "file": "Other",
        "html": "DisplayMagics",
        "javascript": "DisplayMagics",
        "js": "DisplayMagics",
        "latex": "DisplayMagics",
        "markdown": "DisplayMagics",
        "perl": "Other",
        "prun": "ExecutionMagics",
        "pypy": "Other",
        "python": "Other",
        "python2": "Other",
        "python3": "Other",
        "ruby": "Other",
        "script": "ScriptMagics",
        "sh": "Other",
        "svg": "DisplayMagics",
        "sx": "OSMagics",
        "system": "OSMagics",
        "time": "ExecutionMagics",
        "timeit": "ExecutionMagics",
        "writefile": "OSMagics"
       },
       "line": {
        "alias": "OSMagics",
        "alias_magic": "BasicMagics",
        "autocall": "AutoMagics",
        "automagic": "AutoMagics",
        "autosave": "KernelMagics",
        "bookmark": "OSMagics",
        "cat": "Other",
        "cd": "OSMagics",
        "clear": "KernelMagics",
        "colors": "BasicMagics",
        "config": "ConfigMagics",
        "connect_info": "KernelMagics",
        "cp": "Other",
        "debug": "ExecutionMagics",
        "dhist": "OSMagics",
        "dirs": "OSMagics",
        "doctest_mode": "BasicMagics",
        "ed": "Other",
        "edit": "KernelMagics",
        "env": "OSMagics",
        "gui": "BasicMagics",
        "hist": "Other",
        "history": "HistoryMagics",
        "killbgscripts": "ScriptMagics",
        "ldir": "Other",
        "less": "KernelMagics",
        "lf": "Other",
        "lk": "Other",
        "ll": "Other",
        "load": "CodeMagics",
        "load_ext": "ExtensionMagics",
        "loadpy": "CodeMagics",
        "logoff": "LoggingMagics",
        "logon": "LoggingMagics",
        "logstart": "LoggingMagics",
        "logstate": "LoggingMagics",
        "logstop": "LoggingMagics",
        "ls": "Other",
        "lsmagic": "BasicMagics",
        "lx": "Other",
        "macro": "ExecutionMagics",
        "magic": "BasicMagics",
        "man": "KernelMagics",
        "matplotlib": "PylabMagics",
        "mkdir": "Other",
        "more": "KernelMagics",
        "mv": "Other",
        "notebook": "BasicMagics",
        "page": "BasicMagics",
        "pastebin": "CodeMagics",
        "pdb": "ExecutionMagics",
        "pdef": "NamespaceMagics",
        "pdoc": "NamespaceMagics",
        "pfile": "NamespaceMagics",
        "pinfo": "NamespaceMagics",
        "pinfo2": "NamespaceMagics",
        "pip": "BasicMagics",
        "popd": "OSMagics",
        "pprint": "BasicMagics",
        "precision": "BasicMagics",
        "profile": "BasicMagics",
        "prun": "ExecutionMagics",
        "psearch": "NamespaceMagics",
        "psource": "NamespaceMagics",
        "pushd": "OSMagics",
        "pwd": "OSMagics",
        "pycat": "OSMagics",
        "pylab": "PylabMagics",
        "qtconsole": "KernelMagics",
        "quickref": "BasicMagics",
        "recall": "HistoryMagics",
        "rehashx": "OSMagics",
        "reload_ext": "ExtensionMagics",
        "rep": "Other",
        "rerun": "HistoryMagics",
        "reset": "NamespaceMagics",
        "reset_selective": "NamespaceMagics",
        "rm": "Other",
        "rmdir": "Other",
        "run": "ExecutionMagics",
        "save": "CodeMagics",
        "sc": "OSMagics",
        "set_env": "OSMagics",
        "store": "StoreMagics",
        "sx": "OSMagics",
        "system": "OSMagics",
        "tb": "ExecutionMagics",
        "time": "ExecutionMagics",
        "timeit": "ExecutionMagics",
        "unalias": "OSMagics",
        "unload_ext": "ExtensionMagics",
        "who": "NamespaceMagics",
        "who_ls": "NamespaceMagics",
        "whos": "NamespaceMagics",
        "xdel": "NamespaceMagics",
        "xmode": "BasicMagics"
       }
      },
      "text/plain": [
       "Available line magics:\n",
       "%alias  %alias_magic  %autocall  %automagic  %autosave  %bookmark  %cat  %cd  %clear  %colors  %config  %connect_info  %cp  %debug  %dhist  %dirs  %doctest_mode  %ed  %edit  %env  %gui  %hist  %history  %killbgscripts  %ldir  %less  %lf  %lk  %ll  %load  %load_ext  %loadpy  %logoff  %logon  %logstart  %logstate  %logstop  %ls  %lsmagic  %lx  %macro  %magic  %man  %matplotlib  %mkdir  %more  %mv  %notebook  %page  %pastebin  %pdb  %pdef  %pdoc  %pfile  %pinfo  %pinfo2  %popd  %pprint  %precision  %profile  %prun  %psearch  %psource  %pushd  %pwd  %pycat  %pylab  %qtconsole  %quickref  %recall  %rehashx  %reload_ext  %rep  %rerun  %reset  %reset_selective  %rm  %rmdir  %run  %save  %sc  %set_env  %store  %sx  %system  %tb  %time  %timeit  %unalias  %unload_ext  %who  %who_ls  %whos  %xdel  %xmode\n",
       "\n",
       "Available cell magics:\n",
       "%%!  %%HTML  %%SVG  %%bash  %%capture  %%debug  %%file  %%html  %%javascript  %%js  %%latex  %%markdown  %%perl  %%prun  %%pypy  %%python  %%python2  %%python3  %%ruby  %%script  %%sh  %%svg  %%sx  %%system  %%time  %%timeit  %%writefile\n",
       "\n",
       "Automagic is ON, % prefix IS NOT needed for line magics."
      ]
     },
     "execution_count": 34,
     "metadata": {},
     "output_type": "execute_result"
    }
   ],
   "source": [
    "%lsmagic"
   ]
  },
  {
   "cell_type": "markdown",
   "metadata": {
    "slideshow": {
     "slide_type": "slide"
    }
   },
   "source": [
    "#### Travailler avec SQL"
   ]
  },
  {
   "cell_type": "code",
   "execution_count": 1,
   "metadata": {
    "slideshow": {
     "slide_type": "-"
    }
   },
   "outputs": [
    {
     "data": {
      "text/plain": [
       "'Connected: @None'"
      ]
     },
     "execution_count": 1,
     "metadata": {},
     "output_type": "execute_result"
    }
   ],
   "source": [
    "%load_ext sql\n",
    "%sql sqlite://"
   ]
  },
  {
   "cell_type": "code",
   "execution_count": 3,
   "metadata": {
    "slideshow": {
     "slide_type": "-"
    }
   },
   "outputs": [
    {
     "name": "stdout",
     "output_type": "stream",
     "text": [
      " * sqlite://\n",
      "Done.\n",
      "1 rows affected.\n",
      "1 rows affected.\n"
     ]
    },
    {
     "data": {
      "text/plain": [
       "[]"
      ]
     },
     "execution_count": 3,
     "metadata": {},
     "output_type": "execute_result"
    }
   ],
   "source": [
    "%%sql\n",
    "CREATE TABLE writer (first_name, last_name, year_of_death);\n",
    "INSERT INTO writer VALUES ('William', 'Shakespeare', 1616);\n",
    "INSERT INTO writer VALUES ('Bertold', 'Brecht', 1956);"
   ]
  },
  {
   "cell_type": "code",
   "execution_count": 4,
   "metadata": {
    "slideshow": {
     "slide_type": "-"
    }
   },
   "outputs": [
    {
     "name": "stdout",
     "output_type": "stream",
     "text": [
      " * sqlite://\n",
      "Done.\n"
     ]
    },
    {
     "data": {
      "text/html": [
       "<table>\n",
       "    <tr>\n",
       "        <th>first_name</th>\n",
       "        <th>last_name</th>\n",
       "        <th>year_of_death</th>\n",
       "    </tr>\n",
       "    <tr>\n",
       "        <td>William</td>\n",
       "        <td>Shakespeare</td>\n",
       "        <td>1616</td>\n",
       "    </tr>\n",
       "    <tr>\n",
       "        <td>Bertold</td>\n",
       "        <td>Brecht</td>\n",
       "        <td>1956</td>\n",
       "    </tr>\n",
       "</table>"
      ],
      "text/plain": [
       "[('William', 'Shakespeare', 1616), ('Bertold', 'Brecht', 1956)]"
      ]
     },
     "execution_count": 4,
     "metadata": {},
     "output_type": "execute_result"
    }
   ],
   "source": [
    "%sql select * from writer"
   ]
  },
  {
   "cell_type": "markdown",
   "metadata": {
    "slideshow": {
     "slide_type": "slide"
    }
   },
   "source": [
    "#### Diaporamas\n",
    "Ce diaporama a été réalisé avec Jupyter !!"
   ]
  },
  {
   "cell_type": "markdown",
   "metadata": {
    "slideshow": {
     "slide_type": "slide"
    }
   },
   "source": [
    "### Modules intéressants\n",
    "\n",
    "--> démo exemples"
   ]
  },
  {
   "cell_type": "markdown",
   "metadata": {
    "slideshow": {
     "slide_type": "slide"
    }
   },
   "source": [
    "### nbgrader\n",
    "- Création automatique de versions élèves pour les notebook\n",
    "- Distribution automatique aux élèves - en lien avec **jupyterhub**\n",
    "- Correction automatique :)\n",
    "\n",
    "--> démo"
   ]
  },
  {
   "cell_type": "markdown",
   "metadata": {
    "slideshow": {
     "slide_type": "slide"
    }
   },
   "source": [
    "## jupyter hub\n",
    "- surcouche multi-utilisateur au dessus de jupyter\n",
    "- particulièrement adapté à l'utilisation de nbgrader\n",
    "- installation délicate"
   ]
  },
  {
   "cell_type": "markdown",
   "metadata": {
    "slideshow": {
     "slide_type": "slide"
    }
   },
   "source": [
    "# Installation en lycée"
   ]
  },
  {
   "cell_type": "markdown",
   "metadata": {
    "slideshow": {
     "slide_type": "slide"
    }
   },
   "source": [
    "## Le contexte\n",
    "- utiliser une machine dédiée sous linux (ubuntu server 18.04 conseillé)\n",
    "- rien à installer sur les postes clients\n",
    "- compatible avec tous types d'infrastructure (SE3, Window$, virstualisé)\n",
    "\n",
    "***mais***\n",
    "\n",
    "- pas d'application graphique TKinter en mode serveur distant\n",
    "- installation technique et configuration délicate"
   ]
  },
  {
   "cell_type": "markdown",
   "metadata": {
    "slideshow": {
     "slide_type": "slide"
    }
   },
   "source": [
    "<img src=\"https://www.docker.com/sites/default/files/d8/Docker-R-Logo-08-2018-Monochomatic-RGB_Moby-x1.png\" width=300/>\n",
    "\n",
    "## Docker\n",
    "\n",
    "- présentation de docker\n",
    "- principe de fonctionnement\n",
    "- avantages"
   ]
  },
  {
   "cell_type": "markdown",
   "metadata": {
    "slideshow": {
     "slide_type": "slide"
    }
   },
   "source": [
    "### Présentation de docker\n",
    "Docker est une plateforme de virtualisation par conteneur qui, contrairement à la virtualisation sur hyperviseur où vous devez créer de nouvelles machines complètes pour isoler celles-ci les unes des autres et s’assurer de leur indépendance, va vous permettre de créer des conteneurs qui vont uniquement contenir votre ou vos applications. Empaquetées sous forme de conteneurs, ces applications pourront ainsi être facilement déployées sur tout hôte exécutant Docker, chaque conteneur restant parfaitement indépendant !"
   ]
  },
  {
   "cell_type": "markdown",
   "metadata": {
    "slideshow": {
     "slide_type": "slide"
    }
   },
   "source": [
    "### principe de fonctionnement\n",
    "<table align='left'>\n",
    "<tr>\n",
    "<td><img src='https://www.docker.com/sites/default/files/d8/styles/large/public/2018-11/container-what-is-container.png' width='400'/></td>\n",
    "<td><img src='https://www.docker.com/sites/default/files/d8/2018-11/container-vm-whatcontainer_2.png' width='400' /></td>\n",
    "</tr>\n",
    "</table>"
   ]
  },
  {
   "cell_type": "markdown",
   "metadata": {
    "slideshow": {
     "slide_type": "slide"
    }
   },
   "source": [
    "### pourquoi docker ?\n",
    "\n",
    "- très économique en ressources\n",
    "- facile à maintenir (récupération en cas de crash, migration sur autre machine...)\n",
    "- permet d'avoir plusieurs instances de **jupyterHub** (production, tests, formation)\n",
    "- dépot dockerhub proposant des images toutes faites pour beaucoup d'applications \n",
    "    - jupyter\n",
    "    - serveurs web\n",
    "    - bases de données SQL ...\n",
    "- facile à déployer "
   ]
  },
  {
   "cell_type": "markdown",
   "metadata": {
    "slideshow": {
     "slide_type": "slide"
    }
   },
   "source": [
    "### Images / Containers\n",
    "- La philosophie de docker : une application = une image\n",
    "- L'image contient une version *propre* de l'application \n",
    "- On crée un ou plusieurs containers à partir de cette image\n",
    "\n",
    "Analogie : \n",
    "- Image = Classe / Container = Instance\n",
    "- Image = firefox.exe / Container = fenêtres firefox"
   ]
  },
  {
   "cell_type": "markdown",
   "metadata": {
    "slideshow": {
     "slide_type": "slide"
    }
   },
   "source": [
    "## Installation automatique\n",
    "\n",
    "Grâce à docker, deux lignes suffisent pour disposer d'un sreveur jupyterhub avec nbgrader et tous les modules utiles dans votre lycée :\n",
    "1. Installer docker\n",
    "```sh\n",
    "apt-get install docker.io\n",
    "```\n",
    "2. Télécharger mon image jupyterHub personalisée et lancer un container\n",
    "```sh\n",
    "docker run -it -p 8000:8000 --name jhub wawachief/jupyterhub\n",
    "```\n",
    "\n",
    "Le serveur **jupyterHub** est opérationnel à l'adresse http://127.0.0.1:8000\n",
    "\n"
   ]
  },
  {
   "cell_type": "markdown",
   "metadata": {
    "slideshow": {
     "slide_type": "slide"
    }
   },
   "source": [
    "## Pour en savoir plus\n",
    "\n",
    "- Gérer le container\n",
    "- Gérer la persistance des données\n",
    "- Sauvegarder et restaurer les données\n",
    "- Quelques commandes docker utiles\n",
    "\n",
    "Pour les *utilisateurs* :\n",
    "https://lecluseo.scenari-community.org/jupyter_web/co/g_installation.html\n",
    "\n",
    "Pour les *développeurs* :\n",
    "https://github.com/wawachief/jupyterhubDocker"
   ]
  }
 ],
 "metadata": {
  "celltoolbar": "Aucun(e)",
  "kernelspec": {
   "display_name": "Python 3",
   "language": "python",
   "name": "python3"
  },
  "language_info": {
   "codemirror_mode": {
    "name": "ipython",
    "version": 3
   },
   "file_extension": ".py",
   "mimetype": "text/x-python",
   "name": "python",
   "nbconvert_exporter": "python",
   "pygments_lexer": "ipython3",
   "version": "3.6.7"
  }
 },
 "nbformat": 4,
 "nbformat_minor": 2
}
